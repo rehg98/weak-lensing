{
 "cells": [
  {
   "cell_type": "code",
   "execution_count": 8,
   "metadata": {
    "collapsed": true
   },
   "outputs": [],
   "source": [
    "import matplotlib.pyplot as plt\n",
    "from astropy.io import fits\n",
    "import numpy as np\n",
    "import scipy.ndimage\n",
    "from scipy import fftpack\n",
    "import time\n",
    "\n",
    "t0 = time.time()"
   ]
  },
  {
   "cell_type": "code",
   "execution_count": 9,
   "metadata": {
    "collapsed": true
   },
   "outputs": [],
   "source": [
    "def SNR(powerspecs):\n",
    "    #Calculate Signal-to-Noise ratio given a set of powerspectra \n",
    "    \n",
    "    powermean = np.mat(np.mean(powerspecs, axis = 0))\n",
    "    powermat = np.vstack((powerspecs))\n",
    "    covar = np.mat(np.cov(powerspecs, rowvar = 0))\n",
    "    \n",
    "    SNRsquare = powermean * (covar.I * powermean.T)\n",
    "    \n",
    "    return np.sqrt(SNRsquare)"
   ]
  },
  {
   "cell_type": "code",
   "execution_count": 10,
   "metadata": {
    "collapsed": true
   },
   "outputs": [],
   "source": [
    "def power1D(image, num_bins):\n",
    "    \n",
    "    y, x = np.indices(image.shape)\n",
    "    center = np.array([(x.max() - x.min()) / 2., (x.max() - x.min()) / 2.])\n",
    "    \n",
    "    if image.shape[0] % 2 == 0:\n",
    "        center += 0.5\n",
    "    \n",
    "    radii = np.hypot(x - center[0], y - center[1])\n",
    "    \n",
    "    sorted_radii_indices = np.argsort(radii.flat)\n",
    "    sorted_radii = radii.flat[sorted_radii_indices]\n",
    "    sorted_pixels = image.flat[sorted_radii_indices]\n",
    "    \n",
    "    bins = np.logspace(0, np.log10(image.shape[0]/2.), num_bins + 1)\n",
    "    \n",
    "    bin_weights = np.histogram(sorted_radii, bins)[0]\n",
    "    bin_edges = np.cumsum(bin_weights)\n",
    "    pixel_sums = np.cumsum(sorted_pixels, dtype=float)\n",
    "    bin_totals = pixel_sums[bin_edges[1:] - 1] - pixel_sums[bin_edges[:-1] - 1]\n",
    "    radial_prof = bin_totals/bin_weights[1:]\n",
    "    \n",
    "    return bins[1:], radial_prof\n",
    "\n",
    "def PowerSpectrum(psd2D, sizedeg = 12.25, size = 2048, bins = 50):\n",
    "    \n",
    "    ells, psd1D = power1D(psd2D, num_bins = 50)\n",
    "    \n",
    "    edge2center = lambda x: x[:-1]+0.5*(x[1:]-x[:-1])\n",
    "    ells = edge2center(ells)\n",
    "    \n",
    "    ells *= 360. / np.sqrt(sizedeg)\n",
    "    norm = ((2 * np.pi * np.sqrt(sizedeg) / 360.0) ** 2) / (size ** 2) ** 2\n",
    "    powspec = ells * (ells + 1) / (2 * np.pi) * norm * psd1D\n",
    "    \n",
    "    last_nan = np.where(np.isnan(powspec))[0][-1]\n",
    "    ells = ells[last_nan + 1:]\n",
    "    powspec = powspec[last_nan + 1:]\n",
    "    return ells, powspec"
   ]
  },
  {
   "cell_type": "code",
   "execution_count": 11,
   "metadata": {},
   "outputs": [
    {
     "name": "stderr",
     "output_type": "stream",
     "text": [
      "C:\\Users\\rehg98\\Anaconda3\\lib\\site-packages\\ipykernel_launcher.py:21: RuntimeWarning: invalid value encountered in true_divide\n"
     ]
    }
   ],
   "source": [
    "image_1 = fits.open('file:///C:/cygwin64/home/rehg98/WLconv_z1100.00_0580r.fits')[0].data.astype(float)\n",
    "image_1 = scipy.ndimage.filters.gaussian_filter(image_1, 9.75)\n",
    "F_1 = fftpack.fftshift(fftpack.fft2(image_1))\n",
    "psd2D_1 = np.abs(F_1)**2\n",
    "ell_1, powspec_1 = PowerSpectrum(psd2D_1, sizedeg = 12.25, size = 2048, bins = 50)"
   ]
  },
  {
   "cell_type": "code",
   "execution_count": 12,
   "metadata": {},
   "outputs": [
    {
     "name": "stderr",
     "output_type": "stream",
     "text": [
      "C:\\Users\\rehg98\\Anaconda3\\lib\\site-packages\\ipykernel_launcher.py:21: RuntimeWarning: invalid value encountered in true_divide\n"
     ]
    }
   ],
   "source": [
    "image_2 = fits.open('file:///C:/cygwin64/home/rehg98/WLconv_z1100.00_0007r.fits')[0].data.astype(float)\n",
    "image_2 = scipy.ndimage.filters.gaussian_filter(image_2, 9.75)\n",
    "F_2 = fftpack.fftshift(fftpack.fft2(image_2))\n",
    "psd2D_2 = np.abs(F_2)**2\n",
    "ell_2, powspec_2 = PowerSpectrum(psd2D_2, sizedeg = 12.25, size = 2048, bins = 50)"
   ]
  },
  {
   "cell_type": "code",
   "execution_count": 13,
   "metadata": {},
   "outputs": [],
   "source": [
    "#plt.loglog(ell_1, powspec_1)\n",
    "#plt.show()\n",
    "\n",
    "#plt.loglog(ell_2, powspec_2)\n",
    "#plt.show()"
   ]
  },
  {
   "cell_type": "code",
   "execution_count": 14,
   "metadata": {},
   "outputs": [
    {
     "name": "stdout",
     "output_type": "stream",
     "text": [
      "[[  1.61798959e+10]]\n",
      "3.9927473068237305\n"
     ]
    }
   ],
   "source": [
    "powspecs = np.array([powspec_1, powspec_2])\n",
    "print(SNR(powspecs))\n",
    "\n",
    "t1 = time.time()\n",
    "print(t1 - t0)"
   ]
  },
  {
   "cell_type": "code",
   "execution_count": null,
   "metadata": {
    "collapsed": true
   },
   "outputs": [],
   "source": []
  }
 ],
 "metadata": {
  "kernelspec": {
   "display_name": "Python 3",
   "language": "python",
   "name": "python3"
  },
  "language_info": {
   "codemirror_mode": {
    "name": "ipython",
    "version": 3
   },
   "file_extension": ".py",
   "mimetype": "text/x-python",
   "name": "python",
   "nbconvert_exporter": "python",
   "pygments_lexer": "ipython3",
   "version": "3.6.1"
  }
 },
 "nbformat": 4,
 "nbformat_minor": 2
}
