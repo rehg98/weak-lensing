{
 "cells": [
  {
   "cell_type": "code",
   "execution_count": 19,
   "metadata": {
    "collapsed": true
   },
   "outputs": [],
   "source": [
    "import matplotlib.pyplot as plt\n",
    "from astropy.io import fits\n",
    "import numpy as np\n",
    "import scipy.ndimage\n",
    "from scipy import fftpack\n",
    "from scipy import *"
   ]
  },
  {
   "cell_type": "code",
   "execution_count": 39,
   "metadata": {
    "collapsed": true
   },
   "outputs": [],
   "source": [
    "def azimuthalAverage(image, center = None, edges = None, logbins = False, bins = 50, return_num_modes=0):\n",
    "    \"\"\"\n",
    "    Calculate the azimuthally averaged radial profile.\n",
    "    Input:\n",
    "    image = The 2D image\n",
    "    center = The [x,y] pixel coordinates used as the center. The default is None, which then uses the center of the image (including fracitonal pixels).\n",
    "    Output:\n",
    "    ell_arr = the ell's, lower edge\n",
    "    tbin = power spectrum\n",
    "    \"\"\"\n",
    "    # Calculate the indices from the image\n",
    "    y, x = np.indices(image.shape)\n",
    "    if not center:\n",
    "        center = np.array([(x.max()-x.min())/2.0, (x.max()-x.min())/2.0])\n",
    "    \n",
    "    ## added below on oct/31/2014, \n",
    "    ## since nyquist freqnecy is not centered for even # mapsize\n",
    "\n",
    "    if image.shape[0]%2 == 0:\n",
    "        center+=0.5\n",
    "    \n",
    "    r = np.hypot(x - center[0], y - center[1])#distance to center pixel, for each pixel\n",
    "\n",
    "    # Get sorted radii\n",
    "    ind = np.argsort(r.flat)\n",
    "    r_sorted = r.flat[ind] # the index to sort by r\n",
    "    i_sorted = image.flat[ind] # the index of the images sorted by r\n",
    "\n",
    "    # find index that's corresponding to the lower edge of each bin\n",
    "    kmin=1.0\n",
    "    kmax=image.shape[0]/2.0\n",
    "    if edges == None:\n",
    "        if logbins:\n",
    "            edges = np.logspace(np.log10(kmin),np.log10(kmax),bins+1)\n",
    "        else:\n",
    "            #edges = linspace(kmin,kmax+0.001,bins+1)    \n",
    "            edges = np.linspace(kmin,kmax,bins+1)\n",
    "    if edges[0] > 0:\n",
    "        edges = np.append([0],edges)\n",
    "        \n",
    "    hist_ind = np.histogram(r_sorted,bins = edges)[0] # hist_ind: the number in each ell bins, sum them up is the index of lower edge of each bin, first bin spans from 0 to left of first bin edge.    \n",
    "    hist_sum = np.cumsum(hist_ind)\n",
    "    csim = np.cumsum(i_sorted, dtype=float)\n",
    "    tbin = csim[hist_sum[1:]] - csim[hist_sum[:-1]]\n",
    "    radial_prof = tbin/hist_ind[1:]\n",
    "    if return_num_modes:\n",
    "        #where N=hist_sum[1:]-hist_sum[:-1] is the number of modes in each bin, but note N/2 is the num of independent modes\n",
    "        return edges[1:], radial_prof, (hist_sum[1:]-hist_sum[:-1])/2.0\n",
    "    else:\n",
    "        return edges[1:], radial_prof"
   ]
  },
  {
   "cell_type": "code",
   "execution_count": 40,
   "metadata": {
    "collapsed": true
   },
   "outputs": [],
   "source": [
    "edge2center = lambda x: x[:-1]+0.5*(x[1:]-x[:-1])"
   ]
  },
  {
   "cell_type": "code",
   "execution_count": 41,
   "metadata": {
    "collapsed": true
   },
   "outputs": [],
   "source": [
    "def PowerSpectrum(img, sizedeg = 12.25, edges = None, logbins = True, sigmaG=0, bins=50):#edges should be pixels\n",
    "    '''Calculate the power spectrum for a square image, with normalization.\n",
    "    Input:\n",
    "    img = input square image in numpy array.\n",
    "    sizedeg = image real size in deg^2\n",
    "    edges = ell bin edges, length = nbin + 1, if not provided, then do 1000 bins.\n",
    "    sigmaG = smoothing scale in arcmin\n",
    "    Output:\n",
    "    powspec = the power at the bins\n",
    "    ell_arr = lower bound of the binedges\n",
    "    '''\n",
    "    img = img.astype(float)\n",
    "    size = img.shape[0]\n",
    "    #F = fftpack.fftshift(fftpack.fft2(img))\n",
    "    F = fftpack.fftshift(fftpack.fft2(img))\n",
    "    psd2D = np.abs(F)**2\n",
    "    ## correct for b_ell\n",
    "    #psd2D /= bell_2D(size, sigmaG*PPA512)**2\n",
    "    ell_arr, psd1D = azimuthalAverage(psd2D, center=None, edges = edges,logbins = logbins, bins=bins)\n",
    "    ell_arr = edge2center(ell_arr)\n",
    "    ell_arr *= 360./np.sqrt(sizedeg)# normalized to our current map size\n",
    "    norm = ((2*np.pi*np.sqrt(sizedeg)/360.0)**2)/(size**2)**2\n",
    "    powspec = ell_arr*(ell_arr+1)/(2*np.pi) * norm * psd1D\n",
    "    return ell_arr, powspec"
   ]
  },
  {
   "cell_type": "code",
   "execution_count": 42,
   "metadata": {},
   "outputs": [
    {
     "name": "stderr",
     "output_type": "stream",
     "text": [
      "C:\\Users\\rehg98\\Anaconda3\\lib\\site-packages\\ipykernel_launcher.py:45: RuntimeWarning: invalid value encountered in true_divide\n"
     ]
    },
    {
     "data": {
      "image/png": "[encoded data removed]",
      "text/plain": [
       "<matplotlib.figure.Figure at 0x80809dcac8>"
      ]
     },
     "metadata": {},
     "output_type": "display_data"
    }
   ],
   "source": [
    "image_file = fits.open('file:///C:/cygwin64/home/rehg98/WLconv_z1100.00_0580r.fits')\n",
    "image_data = image_file[0].data\n",
    "smooth_data = scipy.ndimage.filters.gaussian_filter(image_data, 9.75)\n",
    "psd1D = PowerSpectrum(smooth_data)\n",
    "plt.loglog(psd1D[0], psd1D[1])\n",
    "plt.xlim(100, 3000)\n",
    "plt.ylim(1e-4, 1e-2)\n",
    "\n",
    "plt.show()"
   ]
  },
  {
   "cell_type": "code",
   "execution_count": null,
   "metadata": {
    "collapsed": true
   },
   "outputs": [],
   "source": []
  }
 ],
 "metadata": {
  "kernelspec": {
   "display_name": "Python 3",
   "language": "python",
   "name": "python3"
  },
  "language_info": {
   "codemirror_mode": {
    "name": "ipython",
    "version": 3
   },
   "file_extension": ".py",
   "mimetype": "text/x-python",
   "name": "python",
   "nbconvert_exporter": "python",
   "pygments_lexer": "ipython3",
   "version": "3.6.1"
  }
 },
 "nbformat": 4,
 "nbformat_minor": 2
}
