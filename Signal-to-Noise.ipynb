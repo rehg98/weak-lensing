{
 "cells": [
  {
   "cell_type": "code",
   "execution_count": 118,
   "metadata": {
    "collapsed": true
   },
   "outputs": [],
   "source": [
    "import matplotlib.pyplot as plt\n",
    "from astropy.io import fits\n",
    "import numpy as np\n",
    "import scipy.ndimage\n",
    "from scipy import fftpack"
   ]
  },
  {
   "cell_type": "code",
   "execution_count": 139,
   "metadata": {
    "collapsed": true
   },
   "outputs": [],
   "source": [
    "def SNR(powerspecs):\n",
    "    #Calculate Signal-to-Noise ratio given a set of powerspectra \n",
    "    \n",
    "    powermean = np.mat(np.mean(powerspecs, axis = 0))\n",
    "    powermat = np.vstack((powerspecs))\n",
    "    covar = np.mat(np.cov(powerspecs, rowvar = 0))\n",
    "    \n",
    "    SNRsquare = powermean * (covar.I * powermean.T)\n",
    "    \n",
    "    return np.sqrt(SNRsquare)"
   ]
  },
  {
   "cell_type": "code",
   "execution_count": 120,
   "metadata": {
    "collapsed": true
   },
   "outputs": [],
   "source": [
    "def power1D(image, num_bins):\n",
    "    \n",
    "    y, x = np.indices(image.shape)\n",
    "    center = np.array([(x.max() - x.min()) / 2., (x.max() - x.min()) / 2.])\n",
    "    \n",
    "    if image.shape[0] % 2 == 0:\n",
    "        center += 0.5\n",
    "    \n",
    "    radii = np.hypot(x - center[0], y - center[1])\n",
    "    \n",
    "    sorted_radii_indices = np.argsort(radii.flat)\n",
    "    sorted_radii = radii.flat[sorted_radii_indices]\n",
    "    sorted_pixels = image.flat[sorted_radii_indices]\n",
    "    \n",
    "    bins = np.logspace(0, np.log10(image.shape[0]/2.), num_bins + 1)\n",
    "    \n",
    "    bin_weights = np.histogram(sorted_radii, bins)[0]\n",
    "    bin_edges = np.cumsum(bin_weights)\n",
    "    pixel_sums = np.cumsum(sorted_pixels, dtype=float)\n",
    "    bin_totals = pixel_sums[bin_edges[1:] - 1] - pixel_sums[bin_edges[:-1] - 1]\n",
    "    radial_prof = bin_totals/bin_weights[1:]\n",
    "    \n",
    "    return bins[1:], radial_prof\n",
    "\n",
    "def PowerSpectrum(psd2D, sizedeg = 12.25, size = 2048, bins = 50):\n",
    "    \n",
    "    ells, psd1D = power1D(psd2D, num_bins = 50)\n",
    "    \n",
    "    edge2center = lambda x: x[:-1]+0.5*(x[1:]-x[:-1])\n",
    "    ells = edge2center(ells)\n",
    "    \n",
    "    ells *= 360. / np.sqrt(sizedeg)\n",
    "    norm = ((2 * np.pi * np.sqrt(sizedeg) / 360.0) ** 2) / (size ** 2) ** 2\n",
    "    powspec = ells * (ells + 1) / (2 * np.pi) * norm * psd1D\n",
    "    \n",
    "    last_nan = np.where(np.isnan(powspec))[0][-1]\n",
    "    ells = ells[last_nan + 1:]\n",
    "    powspec = powspec[last_nan + 1:]\n",
    "    return ells, powspec"
   ]
  },
  {
   "cell_type": "code",
   "execution_count": 121,
   "metadata": {},
   "outputs": [
    {
     "name": "stderr",
     "output_type": "stream",
     "text": [
      "C:\\Users\\rehg98\\Anaconda3\\lib\\site-packages\\ipykernel_launcher.py:21: RuntimeWarning: invalid value encountered in true_divide\n"
     ]
    }
   ],
   "source": [
    "image_1 = fits.open('file:///C:/cygwin64/home/rehg98/WLconv_z1100.00_0580r.fits')[0].data.astype(float)\n",
    "image_1 = scipy.ndimage.filters.gaussian_filter(image_1, 9.75)\n",
    "F_1 = fftpack.fftshift(fftpack.fft2(image_1))\n",
    "psd2D_1 = np.abs(F_1)**2\n",
    "ell_1, powspec_1 = PowerSpectrum(psd2D_1, sizedeg = 12.25, size = 2048, bins = 50)"
   ]
  },
  {
   "cell_type": "code",
   "execution_count": 122,
   "metadata": {},
   "outputs": [
    {
     "name": "stderr",
     "output_type": "stream",
     "text": [
      "C:\\Users\\rehg98\\Anaconda3\\lib\\site-packages\\ipykernel_launcher.py:21: RuntimeWarning: invalid value encountered in true_divide\n"
     ]
    }
   ],
   "source": [
    "image_2 = fits.open('file:///C:/cygwin64/home/rehg98/WLconv_z1100.00_0007r.fits')[0].data.astype(float)\n",
    "image_2 = scipy.ndimage.filters.gaussian_filter(image_2, 9.75)\n",
    "F_2 = fftpack.fftshift(fftpack.fft2(image_2))\n",
    "psd2D_2 = np.abs(F_2)**2\n",
    "ell_2, powspec_2 = PowerSpectrum(psd2D_2, sizedeg = 12.25, size = 2048, bins = 50)"
   ]
  },
  {
   "cell_type": "code",
   "execution_count": 123,
   "metadata": {},
   "outputs": [
    {
     "data": {
      "image/png": "[encoded data removed]",
      "text/plain": [
       "<matplotlib.figure.Figure at 0x4bb2aa4b38>"
      ]
     },
     "metadata": {},
     "output_type": "display_data"
    },
    {
     "data": {
      "image/png": "[encoded data removed]",
      "text/plain": [
       "<matplotlib.figure.Figure at 0x4bb2a44b70>"
      ]
     },
     "metadata": {},
     "output_type": "display_data"
    }
   ],
   "source": [
    "plt.loglog(ell_1, powspec_1)\n",
    "plt.show()\n",
    "\n",
    "plt.loglog(ell_2, powspec_2)\n",
    "plt.show()"
   ]
  },
  {
   "cell_type": "code",
   "execution_count": 140,
   "metadata": {},
   "outputs": [
    {
     "name": "stdout",
     "output_type": "stream",
     "text": [
      "[[  9.08552802e-04   1.56101710e-03   1.02326386e-03   7.35629741e-04\n",
      "    7.80394589e-04   1.23190510e-03   1.47151107e-03   1.14096710e-03\n",
      "    1.78767052e-03   1.53069385e-03   1.53731471e-03   1.46910540e-03\n",
      "    1.59822333e-03   1.52808597e-03   1.38161201e-03   1.34976653e-03\n",
      "    1.15990038e-03   1.05212558e-03   8.41398881e-04   6.19760979e-04\n",
      "    4.08452852e-04   2.54792045e-04   1.25484760e-04   5.43249627e-05\n",
      "    2.26156738e-05   1.17658623e-05   8.60333315e-06   7.13391301e-06\n",
      "    6.37171234e-06   5.38144851e-06   4.78088292e-06   4.12387399e-06\n",
      "    3.63716432e-06   3.24868731e-06   2.82528780e-06   2.54940596e-06\n",
      "    2.27322922e-06   2.07336456e-06   1.93085256e-06   1.80278473e-06\n",
      "    1.75645660e-06   1.76569362e-06   1.87504194e-06]]\n",
      "[[ -1.02112703e+21  -1.02072473e+21   1.87907965e+22 ...,   1.11875389e+25\n",
      "   -2.29800588e+25  -2.98841178e+25]\n",
      " [ -1.43164092e+21  -2.17278664e+21  -6.07551752e+21 ...,   4.71900944e+25\n",
      "    9.76018430e+25  -9.72755820e+25]\n",
      " [  1.62919639e+20   3.61862396e+21  -8.05764437e+21 ...,   1.09521902e+26\n",
      "   -1.89990370e+26  -9.80039536e+24]\n",
      " ..., \n",
      " [ -2.72460057e+24  -3.45129226e+24  -3.92990462e+25 ...,   1.49670547e+29\n",
      "    6.25734943e+29  -5.68472326e+29]\n",
      " [  2.10264127e+25  -9.87691372e+24   2.29097567e+25 ...,   5.73287345e+29\n",
      "   -4.03649419e+29   7.77892709e+28]\n",
      " [ -3.36230677e+25  -2.90111102e+25  -4.03614244e+25 ...,   2.45101803e+28\n",
      "    7.09847581e+29  -4.87731766e+29]]\n",
      "[[  1.61798959e+10]]\n"
     ]
    }
   ],
   "source": [
    "powspecs = np.array([powspec_1, powspec_2])\n",
    "print(SNR(powspecs))"
   ]
  },
  {
   "cell_type": "code",
   "execution_count": null,
   "metadata": {
    "collapsed": true
   },
   "outputs": [],
   "source": []
  }
 ],
 "metadata": {
  "kernelspec": {
   "display_name": "Python 3",
   "language": "python",
   "name": "python3"
  },
  "language_info": {
   "codemirror_mode": {
    "name": "ipython",
    "version": 3
   },
   "file_extension": ".py",
   "mimetype": "text/x-python",
   "name": "python",
   "nbconvert_exporter": "python",
   "pygments_lexer": "ipython3",
   "version": "3.6.1"
  }
 },
 "nbformat": 4,
 "nbformat_minor": 2
}
