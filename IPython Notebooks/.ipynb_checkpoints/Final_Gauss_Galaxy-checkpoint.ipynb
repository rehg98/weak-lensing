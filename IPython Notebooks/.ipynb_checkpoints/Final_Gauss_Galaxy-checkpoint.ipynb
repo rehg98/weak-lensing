{
 "cells": [
  {
   "cell_type": "markdown",
   "metadata": {},
   "source": [
    "# Gaussianization of Galaxy Weak Lensing Signals"
   ]
  },
  {
   "cell_type": "markdown",
   "metadata": {},
   "source": [
    "******"
   ]
  },
  {
   "cell_type": "markdown",
   "metadata": {},
   "source": [
    "## Scatterplots of Gaussianized vs. Ungaussianized Data"
   ]
  },
  {
   "cell_type": "markdown",
   "metadata": {},
   "source": [
    "### Noiseless Maps (/WLconv_z2.00_0001r.fits)"
   ]
  },
  {
   "cell_type": "markdown",
   "metadata": {},
   "source": [
    "![galscatter_allnoiseless](https://github.com/rehg98/weak-lensing/blob/master/weak%20lensing%20plots/Galaxy/galscatter_allnoiseless.PNG?raw=true)"
   ]
  },
  {
   "cell_type": "markdown",
   "metadata": {},
   "source": [
    "******\n",
    "******"
   ]
  },
  {
   "cell_type": "markdown",
   "metadata": {},
   "source": [
    "## Power Spectra"
   ]
  },
  {
   "cell_type": "markdown",
   "metadata": {},
   "source": [
    "### Noiseless Maps (1 Arcminute Smoothing)"
   ]
  },
  {
   "cell_type": "markdown",
   "metadata": {},
   "source": [
    "![galpowermean_allnoiseless](https://github.com/rehg98/weak-lensing/blob/master/weak%20lensing%20plots/Galaxy/galpowermean_allnoiseless.png?raw=true)"
   ]
  },
  {
   "cell_type": "markdown",
   "metadata": {},
   "source": [
    "******\n",
    "******"
   ]
  },
  {
   "cell_type": "markdown",
   "metadata": {},
   "source": [
    "## Comparison Maps"
   ]
  },
  {
   "cell_type": "markdown",
   "metadata": {},
   "source": [
    "### Noiseless Maps (1 Arcminute Smoothing)"
   ]
  },
  {
   "cell_type": "markdown",
   "metadata": {},
   "source": [
    "![galcompare_allnoiseless_diff](https://github.com/rehg98/weak-lensing/blob/master/weak%20lensing%20plots/Galaxy/galcompare_allnoiseless_diff.PNG?raw=true)"
   ]
  },
  {
   "cell_type": "markdown",
   "metadata": {},
   "source": [
    "******\n",
    "******"
   ]
  },
  {
   "cell_type": "markdown",
   "metadata": {},
   "source": [
    "## Correlation Matrices"
   ]
  },
  {
   "cell_type": "markdown",
   "metadata": {},
   "source": [
    "### Noiseless Maps (1 Arcminute Smoothing; Before and After Gaussianization)"
   ]
  },
  {
   "cell_type": "markdown",
   "metadata": {},
   "source": [
    "![galcorrmat_allnoiseless](https://github.com/rehg98/weak-lensing/blob/master/weak%20lensing%20plots/Galaxy/galcorrmat_allnoiseless.png?raw=true)"
   ]
  },
  {
   "cell_type": "markdown",
   "metadata": {},
   "source": [
    "******\n",
    "******"
   ]
  },
  {
   "cell_type": "markdown",
   "metadata": {},
   "source": [
    "## Signal-to-Noise Ratios (in 3.5&deg; x 3.5&deg; area of sky)"
   ]
  },
  {
   "cell_type": "markdown",
   "metadata": {},
   "source": [
    "### Noiseless Maps - smoothing scales (arcminutes) along top, ell maximums along side"
   ]
  },
  {
   "cell_type": "markdown",
   "metadata": {},
   "source": [
    "#### Fig. 5: Signal-to-Noise Ratios for Ungaussianized Noiseless Maps"
   ]
  },
  {
   "cell_type": "markdown",
   "metadata": {},
   "source": [
    "<font size=\"20\">\n",
    "<table stlye=\"width:100%\">\n",
    "  <tr>\n",
    "    <th></th>\n",
    "    <th>1</th>\n",
    "    <th>2</th>\n",
    "    <th>5</th>\n",
    "    <th>10</th>\n",
    "  </tr>\n",
    "  <tr>\n",
    "    <th>2000</th>\n",
    "    <td></td>\n",
    "    <td></td>\n",
    "    <td></td>\n",
    "    <td></td>\n",
    "  </tr>\n",
    "  <tr>\n",
    "    <th>3000</th>\n",
    "    <td></td>\n",
    "    <td></td>\n",
    "    <td></td>\n",
    "    <td></td>\n",
    "  </tr>\n",
    "  <tr>\n",
    "    <th>5000</th>\n",
    "    <td></td>\n",
    "    <td></td>\n",
    "    <td></td>\n",
    "    <td></td>\n",
    "  </tr>\n",
    "</table>\n",
    "</font>"
   ]
  },
  {
   "cell_type": "markdown",
   "metadata": {},
   "source": [
    "#### Fig. 6: Signal-to-Noise Ratios for Gaussianized Noiseless Maps"
   ]
  },
  {
   "cell_type": "markdown",
   "metadata": {},
   "source": [
    "<table stlye=\"width:100%\">\n",
    "  <tr>\n",
    "    <th></th>\n",
    "    <th>1</th>\n",
    "    <th>2</th>\n",
    "    <th>5</th>\n",
    "    <th>10</th>\n",
    "  </tr>\n",
    "  <tr>\n",
    "    <th>2000</th>\n",
    "    <td>10.74</td>\n",
    "    <td>10.98</td>\n",
    "    <td>9.42</td>\n",
    "    <td></td>\n",
    "  </tr>\n",
    "  <tr>\n",
    "    <th>3000</th>\n",
    "    <td>12.79</td>\n",
    "    <td>12.52</td>\n",
    "    <td>9.84</td>\n",
    "    <td></td>\n",
    "  </tr>\n",
    "  <tr>\n",
    "    <th>5000</th>\n",
    "    <td>16.85</td>\n",
    "    <td>13.76</td>\n",
    "    <td>9.90</td>\n",
    "    <td></td>\n",
    "  </tr>\n",
    "</table>"
   ]
  },
  {
   "cell_type": "markdown",
   "metadata": {},
   "source": [
    "******\n",
    "******"
   ]
  },
  {
   "cell_type": "markdown",
   "metadata": {},
   "source": [
    "## 1-Point PDFs"
   ]
  },
  {
   "cell_type": "markdown",
   "metadata": {},
   "source": [
    "### Noiseless Maps (1 Arcminute Smoothing)"
   ]
  },
  {
   "cell_type": "markdown",
   "metadata": {},
   "source": [
    "![galpdfs_noiseless](https://github.com/rehg98/weak-lensing/blob/master/weak%20lensing%20plots/Galaxy/galpdfs_noiseless.PNG?raw=true)"
   ]
  },
  {
   "cell_type": "code",
   "execution_count": null,
   "metadata": {
    "collapsed": true
   },
   "outputs": [],
   "source": []
  }
 ],
 "metadata": {
  "kernelspec": {
   "display_name": "Python 3",
   "language": "python",
   "name": "python3"
  },
  "language_info": {
   "codemirror_mode": {
    "name": "ipython",
    "version": 3
   },
   "file_extension": ".py",
   "mimetype": "text/x-python",
   "name": "python",
   "nbconvert_exporter": "python",
   "pygments_lexer": "ipython3",
   "version": "3.6.1"
  }
 },
 "nbformat": 4,
 "nbformat_minor": 2
}
