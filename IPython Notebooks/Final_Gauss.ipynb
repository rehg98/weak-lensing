{
 "cells": [
  {
   "cell_type": "markdown",
   "metadata": {},
   "source": [
    "# Gaussianization of Weak Lensing Signals"
   ]
  },
  {
   "cell_type": "markdown",
   "metadata": {},
   "source": [
    "<hr style = \"height:1px\">"
   ]
  },
  {
   "cell_type": "markdown",
   "metadata": {},
   "source": [
    "## Scatterplots of Gaussianized vs. Original Pixels"
   ]
  },
  {
   "cell_type": "markdown",
   "metadata": {},
   "source": [
    "### Noiseless Maps (/CMBL_maps_46cosmo/Om0.296_Ol0.704_w-1.000_si0.786/WLconv_z1100.00_0580r.fits)"
   ]
  },
  {
   "cell_type": "markdown",
   "metadata": {},
   "source": [
    "#### 1 Arcminute Smoothing"
   ]
  },
  {
   "cell_type": "markdown",
   "metadata": {},
   "source": [
    "![scatter_1](https://github.com/rehg98/weak-lensing/blob/master/weak%20lensing%20plots/scatter_1.png?raw=true)"
   ]
  },
  {
   "cell_type": "markdown",
   "metadata": {},
   "source": [
    "#### 2 Arcminute Smoothing"
   ]
  },
  {
   "cell_type": "markdown",
   "metadata": {},
   "source": [
    "![scatter_2](https://github.com/rehg98/weak-lensing/blob/master/weak%20lensing%20plots/scatter_2.png?raw=true)"
   ]
  },
  {
   "cell_type": "markdown",
   "metadata": {},
   "source": [
    "#### 5 Arcminute Smoothing"
   ]
  },
  {
   "cell_type": "markdown",
   "metadata": {},
   "source": [
    "![scatter_5](https://github.com/rehg98/weak-lensing/blob/master/weak%20lensing%20plots/scatter_5.png?raw=true)"
   ]
  },
  {
   "cell_type": "markdown",
   "metadata": {},
   "source": [
    "#### 10 Arcminute Smoothing"
   ]
  },
  {
   "cell_type": "markdown",
   "metadata": {},
   "source": [
    "![scatter_10](https://github.com/rehg98/weak-lensing/blob/master/weak%20lensing%20plots/scatter_10.png?raw=true)"
   ]
  },
  {
   "cell_type": "markdown",
   "metadata": {},
   "source": [
    "### Noisy Maps -- Unfiltered (/CMBL_maps_46cosmo/noisy/reconMaps_Om0.296_Ol0.704_w-1.000_si0.786/recon_Om0.296_Ol0.704_w-1.000_si0.786_r0580.npy)"
   ]
  },
  {
   "cell_type": "markdown",
   "metadata": {},
   "source": [
    "![scatter_noisy](https://github.com/rehg98/weak-lensing/blob/master/weak%20lensing%20plots/scatter_noisy.png?raw=true)"
   ]
  },
  {
   "cell_type": "markdown",
   "metadata": {},
   "source": [
    "### Noisy Maps -- Filtered (/CMBL_maps_46cosmo/noisy/reconMaps_Om0.296_Ol0.704_w-1.000_si0.786/recon_filtered_Om0.296_Ol0.704_w-1.000_si0.786_r0580.npy)"
   ]
  },
  {
   "cell_type": "markdown",
   "metadata": {},
   "source": [
    "![scatter_noisyf](https://github.com/rehg98/weak-lensing/blob/master/weak%20lensing%20plots/scatter_noisyf.png?raw=true)"
   ]
  },
  {
   "cell_type": "markdown",
   "metadata": {},
   "source": [
    "<hr style = \"height:2px\">"
   ]
  },
  {
   "cell_type": "markdown",
   "metadata": {},
   "source": [
    "## Power Spectra"
   ]
  },
  {
   "cell_type": "markdown",
   "metadata": {},
   "source": [
    "### Noiseless Maps (1 Arcminute Smoothing)"
   ]
  },
  {
   "cell_type": "markdown",
   "metadata": {},
   "source": [
    "#### Ungaussianized"
   ]
  },
  {
   "cell_type": "markdown",
   "metadata": {},
   "source": [
    "![powermean_norm_ungauss](https://github.com/rehg98/weak-lensing/blob/master/weak%20lensing%20plots/powermean_norm_ungauss.png?raw=true)"
   ]
  },
  {
   "cell_type": "markdown",
   "metadata": {},
   "source": [
    "#### Gaussianized"
   ]
  },
  {
   "cell_type": "markdown",
   "metadata": {},
   "source": [
    "![powermean_norm_gauss](https://github.com/rehg98/weak-lensing/blob/master/weak%20lensing%20plots/powermean_norm_gauss.png?raw=true)"
   ]
  },
  {
   "cell_type": "markdown",
   "metadata": {},
   "source": [
    "### Noisy Maps (Unfiltered)"
   ]
  },
  {
   "cell_type": "markdown",
   "metadata": {},
   "source": [
    "#### Ungaussianized"
   ]
  },
  {
   "cell_type": "markdown",
   "metadata": {},
   "source": [
    "![powermean_noisy_ungauss](https://github.com/rehg98/weak-lensing/blob/master/weak%20lensing%20plots/powermean_noisy_ungauss.png?raw=true)"
   ]
  },
  {
   "cell_type": "markdown",
   "metadata": {},
   "source": [
    "#### Gaussianized"
   ]
  },
  {
   "cell_type": "markdown",
   "metadata": {},
   "source": [
    "![powermean_noisy_gauss](https://github.com/rehg98/weak-lensing/blob/master/weak%20lensing%20plots/powermean_noisy_gauss.png?raw=true)"
   ]
  },
  {
   "cell_type": "markdown",
   "metadata": {},
   "source": [
    "### Noisy Maps (Filtered)"
   ]
  },
  {
   "cell_type": "markdown",
   "metadata": {},
   "source": [
    "#### Ungaussianized"
   ]
  },
  {
   "cell_type": "markdown",
   "metadata": {},
   "source": [
    "![powermean_noisyf_ungauss](https://github.com/rehg98/weak-lensing/blob/master/weak%20lensing%20plots/powermean_noisyf_ungauss.png?raw=true)"
   ]
  },
  {
   "cell_type": "markdown",
   "metadata": {},
   "source": [
    "#### Gaussianized"
   ]
  },
  {
   "cell_type": "markdown",
   "metadata": {},
   "source": [
    "![powermean_noisyf_gauss](https://github.com/rehg98/weak-lensing/blob/master/weak%20lensing%20plots/powermean_noisyf_gauss.png?raw=true)"
   ]
  },
  {
   "cell_type": "markdown",
   "metadata": {},
   "source": [
    "<hr style = \"height:2px\">"
   ]
  },
  {
   "cell_type": "markdown",
   "metadata": {},
   "source": [
    "## Comparison Maps"
   ]
  },
  {
   "cell_type": "markdown",
   "metadata": {},
   "source": [
    "### Noiseless Maps (1 Arcminute Smoothing; Before and After Gaussianization)"
   ]
  },
  {
   "cell_type": "markdown",
   "metadata": {},
   "source": [
    "![compare_noiseless](https://github.com/rehg98/weak-lensing/blob/master/weak%20lensing%20plots/compare_noiseless.png?raw=true)"
   ]
  },
  {
   "cell_type": "markdown",
   "metadata": {},
   "source": [
    "### Noisy Maps (Unfiltered; Before and After Gaussianization)"
   ]
  },
  {
   "cell_type": "markdown",
   "metadata": {},
   "source": [
    "![compare_noisy](https://github.com/rehg98/weak-lensing/blob/master/weak%20lensing%20plots/compare_noisy.PNG?raw=true)"
   ]
  },
  {
   "cell_type": "markdown",
   "metadata": {},
   "source": [
    "### Noisy Maps (Filtered; Before and After Gaussianization)"
   ]
  },
  {
   "cell_type": "markdown",
   "metadata": {},
   "source": [
    "![compare_noisyf](https://github.com/rehg98/weak-lensing/blob/master/weak%20lensing%20plots/compare_noisyf.PNG?raw=true)"
   ]
  },
  {
   "cell_type": "markdown",
   "metadata": {},
   "source": [
    "<hr style = \"height:2px\">"
   ]
  },
  {
   "cell_type": "markdown",
   "metadata": {},
   "source": [
    "## Correlation Matrices"
   ]
  },
  {
   "cell_type": "markdown",
   "metadata": {},
   "source": [
    "### Noiseless Maps (1 Arcminute Smoothing; Before and After Gaussianization)"
   ]
  },
  {
   "cell_type": "markdown",
   "metadata": {},
   "source": [
    "<table border = \"0\" style = \"width:100%\">\n",
    "  <tr>\n",
    "    <td><img src=\"http://localhost:8888/notebooks/home/rehg98/repositories/weak-lensing/weak%20lensing%20plots/corrmat_norm_ungauss.png\"></td> \n",
    "    <td><img src=\"http://localhost:8888/notebooks/home/rehg98/repositories/weak-lensing/weak%20lensing%20plots/corrmat_norm_gauss.png\"></td>\n",
    "  </tr>\n",
    "</table>"
   ]
  },
  {
   "cell_type": "markdown",
   "metadata": {},
   "source": [
    "### Noisy Maps (Unfiltered; Before and After Gaussianization)"
   ]
  },
  {
   "cell_type": "markdown",
   "metadata": {},
   "source": [
    "<table style = \"width:100%\">\n",
    "  <tr>\n",
    "    <td><img src=\"http://localhost:8888/notebooks/home/rehg98/repositories/weak-lensing/weak%20lensing%20plots/corrmat_noisy_ungauss.png\"></td> \n",
    "    <td><img src=\"http://localhost:8888/notebooks/home/rehg98/repositories/weak-lensing/weak%20lensing%20plots/corrmat_noisy_gauss.png\"></td>\n",
    "  </tr>\n",
    "</table>"
   ]
  },
  {
   "cell_type": "markdown",
   "metadata": {},
   "source": [
    "### Noisy Maps (Filtered; Before and After Gaussianization)"
   ]
  },
  {
   "cell_type": "markdown",
   "metadata": {},
   "source": [
    "<table style = \"width:100%\">\n",
    "  <tr>\n",
    "    <td><img src=\"http://localhost:8888/notebooks/home/rehg98/repositories/weak-lensing/weak%20lensing%20plots/corrmat_noisyf_ungauss.png\"></td> \n",
    "    <td><img src=\"http://localhost:8888/notebooks/home/rehg98/repositories/weak-lensing/weak%20lensing%20plots/corrmat_noisyf_gauss.png\"></td>\n",
    "  </tr>\n",
    "</table>"
   ]
  },
  {
   "cell_type": "markdown",
   "metadata": {},
   "source": [
    "<hr style = \"height:2px\">"
   ]
  },
  {
   "cell_type": "markdown",
   "metadata": {},
   "source": [
    "## Signal-to-Noise Ratios (in 12.25&deg; x 12.25&deg; area of sky)"
   ]
  },
  {
   "cell_type": "markdown",
   "metadata": {},
   "source": [
    "### Noiseless Maps -- smoothing scales (arcminutes) along top, ell maximums along side"
   ]
  },
  {
   "cell_type": "markdown",
   "metadata": {},
   "source": [
    "#### Ungaussianized"
   ]
  },
  {
   "cell_type": "markdown",
   "metadata": {},
   "source": [
    "<table style = \"width:50%\">\n",
    "  <tr>\n",
    "    <th></th>\n",
    "    <th>1</th>\n",
    "    <th>2</th> \n",
    "    <th>5</th>\n",
    "    <th>10</th>\n",
    "  </tr>\n",
    "  <tr>\n",
    "    <th>2000</th>\n",
    "    <td>21.65</td> \n",
    "    <td>21.19</td>\n",
    "    <td>14.55</td> \n",
    "    <td>7.59</td>\n",
    "  </tr>\n",
    "  <tr>\n",
    "    <th>3000</th>\n",
    "    <td>31.88</td> \n",
    "    <td>28.89</td>\n",
    "    <td>16.30</td> \n",
    "    <td>8.21</td>\n",
    "  </tr>\n",
    "  <tr>\n",
    "    <th>5000</th>\n",
    "    <td>46.05</td> \n",
    "    <td>36.44</td>\n",
    "    <td>17.03</td> \n",
    "    <td>9.16</td>\n",
    "  </tr>\n",
    "</table>"
   ]
  },
  {
   "cell_type": "markdown",
   "metadata": {},
   "source": [
    "#### Gaussianized"
   ]
  },
  {
   "cell_type": "markdown",
   "metadata": {},
   "source": [
    "<table style = \"width:50%\">\n",
    "  <tr>\n",
    "    <th></th>\n",
    "    <th>1</th>\n",
    "    <th>2</th> \n",
    "    <th>5</th>\n",
    "    <th>10</th>\n",
    "  </tr>\n",
    "  <tr>\n",
    "    <th>2000</th>\n",
    "    <td>21.71</td> \n",
    "    <td>21.21</td>\n",
    "    <td>13.99</td> \n",
    "    <td>7.25</td>\n",
    "  </tr>\n",
    "  <tr>\n",
    "    <th>3000</th>\n",
    "    <td>32.00</td> \n",
    "    <td>28.72</td>\n",
    "    <td>15.17</td> \n",
    "    <td>7.25</td>\n",
    "  </tr>\n",
    "  <tr>\n",
    "    <th>5000</th>\n",
    "    <td>46.73</td> \n",
    "    <td>36.11</td>\n",
    "    <td>15.29</td> \n",
    "    <td>7.33</td>\n",
    "  </tr>\n",
    "</table>"
   ]
  },
  {
   "cell_type": "markdown",
   "metadata": {},
   "source": [
    "### Noisy Maps -- no smoothing"
   ]
  },
  {
   "cell_type": "markdown",
   "metadata": {},
   "source": [
    "<table style = \"width:50%\">\n",
    "  <tr>\n",
    "    <th></th>\n",
    "    <th>Unfiltered</th>\n",
    "    <th>Filtered</th> \n",
    "  </tr>\n",
    "  <tr>\n",
    "    <th>Ungaussianized</th>\n",
    "    <td>16.10</td> \n",
    "    <td>16.13</td>\n",
    "  </tr>\n",
    "  <tr>\n",
    "    <th>Gaussianized</th>\n",
    "    <td>17.60</td> \n",
    "    <td>15.53</td>\n",
    "  </tr>\n",
    "</table>"
   ]
  },
  {
   "cell_type": "code",
   "execution_count": null,
   "metadata": {
    "collapsed": true
   },
   "outputs": [],
   "source": []
  }
 ],
 "metadata": {
  "kernelspec": {
   "display_name": "Python 3",
   "language": "python",
   "name": "python3"
  },
  "language_info": {
   "codemirror_mode": {
    "name": "ipython",
    "version": 3
   },
   "file_extension": ".py",
   "mimetype": "text/x-python",
   "name": "python",
   "nbconvert_exporter": "python",
   "pygments_lexer": "ipython3",
   "version": "3.6.1"
  }
 },
 "nbformat": 4,
 "nbformat_minor": 2
}
