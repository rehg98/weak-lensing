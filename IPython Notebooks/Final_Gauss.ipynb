{
 "cells": [
  {
   "cell_type": "markdown",
   "metadata": {},
   "source": [
    "# Gaussianization of Weak Lensing Signals"
   ]
  },
  {
   "cell_type": "markdown",
   "metadata": {},
   "source": [
    "<hr style = \"height:1px\">"
   ]
  },
  {
   "cell_type": "markdown",
   "metadata": {},
   "source": [
    "## Scatterplots of Gaussianized vs. Ungaussianized Data"
   ]
  },
  {
   "cell_type": "markdown",
   "metadata": {},
   "source": [
    "### Noiseless Maps (/CMBL_maps_46cosmo/Om0.296_Ol0.704_w-1.000_si0.786/WLconv_z1100.00_0580r.fits)"
   ]
  },
  {
   "cell_type": "markdown",
   "metadata": {},
   "source": [
    "![scatter_allnoiseless](https://github.com/rehg98/weak-lensing/blob/master/weak%20lensing%20plots/scatter_allnoiseless.png?raw=true)"
   ]
  },
  {
   "cell_type": "markdown",
   "metadata": {},
   "source": [
    "### Noisy Maps (/CMBL_maps_46cosmo/noisy/reconMaps_Om0.296_Ol0.704_w-1.000_si0.786/recon_Om0.296_Ol0.704_w-1.000_si0.786_r0580.npy and /CMBL_maps_46cosmo/noisy/reconMaps_Om0.296_Ol0.704_w-1.000_si0.786/recon_filtered_Om0.296_Ol0.704_w-1.000_si0.786_r0580.npy)"
   ]
  },
  {
   "cell_type": "markdown",
   "metadata": {},
   "source": [
    "![scatter_allnoisy](https://github.com/rehg98/weak-lensing/blob/master/weak%20lensing%20plots/scatter_allnoisy.png?raw=true)"
   ]
  },
  {
   "cell_type": "markdown",
   "metadata": {},
   "source": [
    "<hr style = \"height:2px\">"
   ]
  },
  {
   "cell_type": "markdown",
   "metadata": {},
   "source": [
    "## Power Spectra"
   ]
  },
  {
   "cell_type": "markdown",
   "metadata": {},
   "source": [
    "### Noiseless Maps (1 Arcminute Smoothing)"
   ]
  },
  {
   "cell_type": "markdown",
   "metadata": {},
   "source": [
    "![powermean_allnoiseless](https://github.com/rehg98/weak-lensing/blob/master/weak%20lensing%20plots/powermean_allnoiseless.png?raw=true)"
   ]
  },
  {
   "cell_type": "markdown",
   "metadata": {},
   "source": [
    "### Noisy Maps (Unfiltered)"
   ]
  },
  {
   "cell_type": "markdown",
   "metadata": {},
   "source": [
    "![powermean_allnoisy](https://github.com/rehg98/weak-lensing/blob/master/weak%20lensing%20plots/powermean_allnoisy.png?raw=true)"
   ]
  },
  {
   "cell_type": "markdown",
   "metadata": {},
   "source": [
    "### Noisy Maps (Filtered)"
   ]
  },
  {
   "cell_type": "markdown",
   "metadata": {},
   "source": [
    "![powermean_allnoisyf](https://github.com/rehg98/weak-lensing/blob/master/weak%20lensing%20plots/powermean_allnoisyf.png?raw=true)"
   ]
  },
  {
   "cell_type": "markdown",
   "metadata": {},
   "source": [
    "<hr style = \"height:2px\">"
   ]
  },
  {
   "cell_type": "markdown",
   "metadata": {},
   "source": [
    "## Comparison Maps"
   ]
  },
  {
   "cell_type": "markdown",
   "metadata": {},
   "source": [
    "### Noiseless Maps (1 Arcminute Smoothing)"
   ]
  },
  {
   "cell_type": "markdown",
   "metadata": {},
   "source": [
    "![compare_allnoiseless](https://github.com/rehg98/weak-lensing/blob/master/weak%20lensing%20plots/compare_allnoiseless.png?raw=true)"
   ]
  },
  {
   "cell_type": "markdown",
   "metadata": {},
   "source": [
    "### Noisy Maps (Unfiltered)"
   ]
  },
  {
   "cell_type": "markdown",
   "metadata": {},
   "source": [
    "![compare_allnoisy](https://github.com/rehg98/weak-lensing/blob/master/weak%20lensing%20plots/compare_allnoisy.png?raw=true)"
   ]
  },
  {
   "cell_type": "markdown",
   "metadata": {},
   "source": [
    "### Noisy Maps (Filtered)"
   ]
  },
  {
   "cell_type": "markdown",
   "metadata": {},
   "source": [
    "![compare_allnoisyf](https://github.com/rehg98/weak-lensing/blob/master/weak%20lensing%20plots/compare_allnoisyf.png?raw=true)"
   ]
  },
  {
   "cell_type": "markdown",
   "metadata": {},
   "source": [
    "<hr style = \"height:2px\">"
   ]
  },
  {
   "cell_type": "markdown",
   "metadata": {},
   "source": [
    "## Correlation Matrices"
   ]
  },
  {
   "cell_type": "markdown",
   "metadata": {},
   "source": [
    "### Noiseless Maps (1 Arcminute Smoothing; Before and After Gaussianization)"
   ]
  },
  {
   "cell_type": "markdown",
   "metadata": {},
   "source": [
    "<table border = \"0\" style = \"width:100%\">\n",
    "  <tr>\n",
    "    <td><img src=\"https://github.com/rehg98/weak-lensing/blob/master/weak%20lensing%20plots/corrmat_norm_ungauss.png?raw=true\"></td> \n",
    "    <td><img src=\"https://github.com/rehg98/weak-lensing/blob/master/weak%20lensing%20plots/corrmat_norm_gauss.png?raw=true\"></td>\n",
    "  </tr>\n",
    "</table>"
   ]
  },
  {
   "cell_type": "markdown",
   "metadata": {},
   "source": [
    "### Noisy Maps (Unfiltered; Before and After Gaussianization)"
   ]
  },
  {
   "cell_type": "markdown",
   "metadata": {},
   "source": [
    "<table style = \"width:100%\">\n",
    "  <tr>\n",
    "    <td><img src=\"https://github.com/rehg98/weak-lensing/blob/master/weak%20lensing%20plots/corrmat_noisy_ungauss.png?raw=true\"></td> \n",
    "    <td><img src=\"https://github.com/rehg98/weak-lensing/blob/master/weak%20lensing%20plots/corrmat_noisy_gauss.png?raw=true\"></td>\n",
    "  </tr>\n",
    "</table>"
   ]
  },
  {
   "cell_type": "markdown",
   "metadata": {},
   "source": [
    "### Noisy Maps (Filtered; Before and After Gaussianization)"
   ]
  },
  {
   "cell_type": "markdown",
   "metadata": {},
   "source": [
    "<table style = \"width:100%\">\n",
    "  <tr>\n",
    "    <td><img src=\"https://github.com/rehg98/weak-lensing/blob/master/weak%20lensing%20plots/corrmat_noisyf_ungauss.png?raw=true\"></td> \n",
    "    <td><img src=\"https://github.com/rehg98/weak-lensing/blob/master/weak%20lensing%20plots/corrmat_noisyf_gauss.png?raw=true\"></td>\n",
    "  </tr>\n",
    "</table>"
   ]
  },
  {
   "cell_type": "markdown",
   "metadata": {},
   "source": [
    "<hr style = \"height:2px\">"
   ]
  },
  {
   "cell_type": "markdown",
   "metadata": {},
   "source": [
    "## Signal-to-Noise Ratios (in 3.5&deg; x 3.5&deg; area of sky)"
   ]
  },
  {
   "cell_type": "markdown",
   "metadata": {},
   "source": [
    "### Noiseless Maps - smoothing scales (arcminutes) along top, ell maximums along side"
   ]
  },
  {
   "cell_type": "markdown",
   "metadata": {},
   "source": [
    "#### Ungaussianized"
   ]
  },
  {
   "cell_type": "markdown",
   "metadata": {},
   "source": [
    "![compare_noisyf](https://github.com/rehg98/weak-lensing/blob/master/weak%20lensing%20plots/snr_norm_ungauss.PNG?raw=true)"
   ]
  },
  {
   "cell_type": "markdown",
   "metadata": {},
   "source": [
    "#### Gaussianized"
   ]
  },
  {
   "cell_type": "markdown",
   "metadata": {},
   "source": [
    "![compare_noisyf](https://github.com/rehg98/weak-lensing/blob/master/weak%20lensing%20plots/snr_norm_gauss.PNG?raw=true)"
   ]
  },
  {
   "cell_type": "markdown",
   "metadata": {},
   "source": [
    "### Noisy Maps - No Smoothing"
   ]
  },
  {
   "cell_type": "markdown",
   "metadata": {},
   "source": [
    "![compare_noisyf](https://github.com/rehg98/weak-lensing/blob/master/weak%20lensing%20plots/snr_noisy.PNG?raw=true)"
   ]
  },
  {
   "cell_type": "code",
   "execution_count": null,
   "metadata": {
    "collapsed": true
   },
   "outputs": [],
   "source": []
  }
 ],
 "metadata": {
  "kernelspec": {
   "display_name": "Python 3",
   "language": "python",
   "name": "python3"
  },
  "language_info": {
   "codemirror_mode": {
    "name": "ipython",
    "version": 3
   },
   "file_extension": ".py",
   "mimetype": "text/x-python",
   "name": "python",
   "nbconvert_exporter": "python",
   "pygments_lexer": "ipython3",
   "version": "3.6.1"
  }
 },
 "nbformat": 4,
 "nbformat_minor": 2
}
